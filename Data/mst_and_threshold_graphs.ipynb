{
 "cells": [
  {
   "cell_type": "code",
   "execution_count": null,
   "metadata": {},
   "outputs": [],
   "source": [
    "import networkx as nx\n",
    "\n",
    "loaded_graph = nx.read_graphml(\"D:\\MANU\\GNN-for-asset-management-2\\GNN-for-asset-management\\Graphs\\pearson_correlation_full_graph.graphml\")\n",
    "\n",
    "print(\"Nodes:\", loaded_graph.nodes(data=True))\n",
    "print(\"Edges:\", loaded_graph.edges(data=True))"
   ]
  },
  {
   "cell_type": "code",
   "execution_count": null,
   "metadata": {},
   "outputs": [],
   "source": [
    "print(loaded_graph)"
   ]
  },
  {
   "cell_type": "code",
   "execution_count": null,
   "metadata": {},
   "outputs": [],
   "source": [
    "import matplotlib.pyplot as plt\n",
    "\n",
    "plt.figure(figsize=(50, 50))\n",
    "\n",
    "pos = nx.spring_layout(loaded_graph)\n",
    "nx.draw_networkx(loaded_graph, pos, with_labels=True, font_size=8, font_color=\"black\", font_weight=\"bold\", edge_color=\"gray\", width=0.1)\n",
    "\n",
    "# Show the plot\n",
    "plt.show()"
   ]
  },
  {
   "cell_type": "code",
   "execution_count": null,
   "metadata": {},
   "outputs": [],
   "source": [
    "mst = nx.minimum_spanning_tree(loaded_graph, weight='weight')\n",
    "\n",
    "mst_graph = nx.Graph()\n",
    "mst_graph.add_nodes_from(mst.nodes(data=True))\n",
    "mst_graph.add_edges_from(mst.edges(data=True))\n"
   ]
  },
  {
   "cell_type": "code",
   "execution_count": null,
   "metadata": {},
   "outputs": [],
   "source": [
    "plt.figure(figsize=(30, 30))\n",
    "\n",
    "pos = nx.spring_layout(mst_graph) \n",
    "nx.draw_networkx(mst_graph, pos, with_labels=True, font_size=8, font_color=\"black\", font_weight=\"bold\", edge_color=\"gray\", width=0.1)\n",
    "plt.show()"
   ]
  },
  {
   "cell_type": "code",
   "execution_count": null,
   "metadata": {},
   "outputs": [],
   "source": [
    "print(mst_graph.number_of_nodes())\n",
    "print(mst_graph.number_of_edges())"
   ]
  },
  {
   "cell_type": "code",
   "execution_count": null,
   "metadata": {},
   "outputs": [],
   "source": [
    "print(\"Nodes:\")\n",
    "for node_id, attributes in mst_graph.nodes(data=True):\n",
    "    print(f\"Node {node_id}: {attributes}\")\n",
    "\n",
    "print(\"\\nEdges:\")\n",
    "for edge in mst_graph.edges(data=True):\n",
    "    print(f\"Edge {edge[:2]}: {edge[2]}\")"
   ]
  },
  {
   "cell_type": "code",
   "execution_count": null,
   "metadata": {},
   "outputs": [],
   "source": [
    "# add threshold to the original graph\n",
    "threshold = 0.5\n",
    "threshold_graph = loaded_graph\n",
    "\n",
    "remove_edges = [(u, v) for u, v, d in threshold_graph.edges(data=True) if d['weight']<threshold]\n",
    "threshold_graph.remove_edges_from(remove_edges)"
   ]
  },
  {
   "cell_type": "code",
   "execution_count": null,
   "metadata": {},
   "outputs": [],
   "source": [
    "plt.figure(figsize=(30, 30))\n",
    "\n",
    "pos = nx.spring_layout(threshold_graph) \n",
    "nx.draw_networkx(threshold_graph, pos, with_labels=True, font_size=8, font_color=\"black\", font_weight=\"bold\", edge_color=\"gray\", width=1)\n",
    "plt.show()"
   ]
  },
  {
   "cell_type": "code",
   "execution_count": null,
   "metadata": {},
   "outputs": [],
   "source": [
    "print(threshold_graph.number_of_nodes())\n",
    "print(threshold_graph.number_of_edges())"
   ]
  },
  {
   "cell_type": "code",
   "execution_count": null,
   "metadata": {},
   "outputs": [],
   "source": [
    "node_degrees = threshold_graph.degree()\n",
    "connected_nodes = [node for node, degree in node_degrees if degree > 0]\n",
    "print(len(connected_nodes))"
   ]
  },
  {
   "cell_type": "code",
   "execution_count": null,
   "metadata": {},
   "outputs": [],
   "source": [
    "nx.write_graphml(mst_graph, \"../Graphs/pearson_correlation_mst_graph.graphml\")\n",
    "nx.write_graphml(threshold_graph, \"../Graphs/pearson_correlation_threshold_graph.graphml\")"
   ]
  },
  {
   "cell_type": "code",
   "execution_count": null,
   "metadata": {},
   "outputs": [],
   "source": []
  }
 ],
 "metadata": {
  "kernelspec": {
   "display_name": "base",
   "language": "python",
   "name": "python3"
  },
  "language_info": {
   "codemirror_mode": {
    "name": "ipython",
    "version": 3
   },
   "file_extension": ".py",
   "mimetype": "text/x-python",
   "name": "python",
   "nbconvert_exporter": "python",
   "pygments_lexer": "ipython3",
   "version": "3.10.9"
  }
 },
 "nbformat": 4,
 "nbformat_minor": 2
}
