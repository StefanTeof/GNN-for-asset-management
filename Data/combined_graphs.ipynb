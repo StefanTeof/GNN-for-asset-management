{
 "cells": [
  {
   "cell_type": "code",
   "execution_count": null,
   "metadata": {},
   "outputs": [],
   "source": [
    "import networkx as nx\n",
    "\n",
    "relato_graph = nx.read_graphml(\"../Graphs/relato_graph.graphml\")\n",
    "corr_graph = nx.read_graphml('../Graphs/pearson_correlation_full_graph.graphml')\n",
    "threshold_graph = nx.read_graphml('../Graphs/pearson_correlation_threshold_graph.graphml')\n",
    "mst_graph = nx.read_graphml('../Graphs/pearson_correlation_mst_graph.graphml')"
   ]
  },
  {
   "cell_type": "code",
   "execution_count": null,
   "metadata": {},
   "outputs": [],
   "source": [
    "print(\"Nodes:\")\n",
    "for node_id, attributes in relato_graph.nodes(data=True):\n",
    "    print(f\"Node {node_id}: {attributes}\")\n",
    "\n",
    "print(\"\\nEdges:\")\n",
    "for edge in relato_graph.edges(data=True):\n",
    "    print(f\"Edge {edge[:2]}: {edge[2]}\")"
   ]
  },
  {
   "cell_type": "code",
   "execution_count": null,
   "metadata": {},
   "outputs": [],
   "source": [
    "print(\"Nodes:\")\n",
    "for node_id, attributes in corr_graph.nodes(data=True):\n",
    "    print(f\"Node {node_id}: {attributes}\")\n",
    "print(\"\\nEdges:\")\n",
    "for edge in corr_graph.edges(data=True):\n",
    "    print(f\"Edge {edge[:2]}: {edge[2]}\")"
   ]
  },
  {
   "cell_type": "code",
   "execution_count": null,
   "metadata": {},
   "outputs": [],
   "source": [
    "combined_corr_graph = nx.Graph()\n",
    "\n",
    "combined_corr_graph.add_nodes_from(corr_graph.nodes(data=True))\n",
    "\n",
    "for edge in corr_graph.edges(data=True):\n",
    "    company1 = edge[0]\n",
    "    company2 = edge[1]\n",
    "    weight = edge[2]['weight']\n",
    "    \n",
    "    if relato_graph.has_edge(company1, company2):\n",
    "        relationship_types = relato_graph[company1][company2]['types']\n",
    "    else:\n",
    "        relationship_types = ''\n",
    "\n",
    "    combined_corr_graph.add_edge(company1, company2, weight=weight, types=[relationship_types])\n",
    "\n",
    "for edge in combined_corr_graph.edges():\n",
    "    if 'types' in combined_corr_graph[edge[0]][edge[1]]:\n",
    "        combined_corr_graph[edge[0]][edge[1]]['types'] = ', '.join(combined_corr_graph[edge[0]][edge[1]]['types'])\n",
    " "
   ]
  },
  {
   "cell_type": "code",
   "execution_count": null,
   "metadata": {},
   "outputs": [],
   "source": [
    "print(combined_corr_graph)"
   ]
  },
  {
   "cell_type": "code",
   "execution_count": null,
   "metadata": {},
   "outputs": [],
   "source": [
    "print(\"Nodes:\")\n",
    "for node_id, attributes in combined_corr_graph.nodes(data=True):\n",
    "    print(f\"Node {node_id}: {attributes}\")\n",
    "print(\"\\nEdges:\")\n",
    "for edge in combined_corr_graph.edges(data=True):\n",
    "    print(f\"Edge {edge[:2]}: {edge[2]}\")"
   ]
  },
  {
   "cell_type": "code",
   "execution_count": null,
   "metadata": {},
   "outputs": [],
   "source": [
    "edges = []\n",
    "for edge in combined_corr_graph.edges(data=True):\n",
    "    if edge[2]['types'] != '':\n",
    "        edges.append(edge)\n",
    "\n",
    "print(edges)\n",
    "print(len(edges))\n",
    "\n",
    "for edge in edges:\n",
    "    print(edge[2])"
   ]
  },
  {
   "cell_type": "code",
   "execution_count": null,
   "metadata": {},
   "outputs": [],
   "source": [
    "nodes = []\n",
    "for relato_node in relato_graph.nodes(data=True):\n",
    "    for corr_node in corr_graph.nodes(data=True):\n",
    "        if relato_node[0] == corr_node[0]:\n",
    "            nodes.append(relato_node[0])\n",
    "\n",
    "nodes = list(set(nodes))\n",
    "print(len(nodes))"
   ]
  },
  {
   "cell_type": "code",
   "execution_count": null,
   "metadata": {},
   "outputs": [],
   "source": [
    "comb_graph = nx.Graph()\n",
    "\n",
    "for node in nodes:\n",
    "    comb_graph.add_node(node)\n",
    "for edge in edges:\n",
    "    comb_graph.add_edge(edge[0], edge[1], weight=edge[2]['weight'], types=edge[2]['types'])\n",
    "\n",
    "print(comb_graph)"
   ]
  },
  {
   "cell_type": "code",
   "execution_count": null,
   "metadata": {},
   "outputs": [],
   "source": [
    "\n",
    "import matplotlib.pyplot as plt\n",
    "\n",
    "plt.figure(figsize=(15, 15))\n",
    "\n",
    "pos = nx.spring_layout(comb_graph)\n",
    "nx.draw_networkx(comb_graph, pos, with_labels=True, font_size=8, font_color=\"black\", font_weight=\"bold\", edge_color=\"gray\", width=0.1)\n",
    "\n",
    "# Show the plot\n",
    "plt.show()"
   ]
  },
  {
   "cell_type": "code",
   "execution_count": null,
   "metadata": {},
   "outputs": [],
   "source": [
    "import matplotlib.pyplot as plt\n",
    "\n",
    "plt.figure(figsize=(15, 15))\n",
    "\n",
    "pos = nx.random_layout(comb_graph)\n",
    "nx.draw_networkx(comb_graph, pos, with_labels=True, font_size=8, font_color=\"black\", font_weight=\"bold\", edge_color=\"gray\", width=0.1)\n",
    "\n",
    "# Show the plot\n",
    "plt.show()"
   ]
  },
  {
   "cell_type": "code",
   "execution_count": null,
   "metadata": {},
   "outputs": [],
   "source": [
    "threshold = 0.5\n",
    "comb_threshold_graph = combined_corr_graph\n",
    "\n",
    "remove_edges = [(u, v) for u, v, d in comb_threshold_graph.edges(data=True) if d['weight']<threshold]\n",
    "comb_threshold_graph.remove_edges_from(remove_edges)"
   ]
  },
  {
   "cell_type": "code",
   "execution_count": null,
   "metadata": {},
   "outputs": [],
   "source": [
    "print(comb_threshold_graph)"
   ]
  },
  {
   "cell_type": "code",
   "execution_count": null,
   "metadata": {},
   "outputs": [],
   "source": [
    "\n",
    "import matplotlib.pyplot as plt\n",
    "\n",
    "plt.figure(figsize=(15, 15))\n",
    "\n",
    "pos = nx.random_layout(comb_threshold_graph)\n",
    "nx.draw_networkx(comb_threshold_graph, pos, with_labels=True, font_size=8, font_color=\"black\", font_weight=\"bold\", edge_color=\"gray\", width=0.1)\n",
    "\n",
    "# Show the plot\n",
    "plt.show()"
   ]
  },
  {
   "cell_type": "code",
   "execution_count": null,
   "metadata": {},
   "outputs": [],
   "source": [
    "print(\"Nodes:\")\n",
    "for node_id, attributes in comb_threshold_graph.nodes(data=True):\n",
    "    print(f\"Node {node_id}: {attributes}\")\n",
    "print(\"\\nEdges:\")\n",
    "for edge in comb_threshold_graph.edges(data=True):\n",
    "    print(f\"Edge {edge[:2]}: {edge[2]}\")"
   ]
  },
  {
   "cell_type": "code",
   "execution_count": null,
   "metadata": {},
   "outputs": [],
   "source": [
    "import os\n",
    "from dotenv import load_dotenv\n",
    "import pandas as pd\n",
    "\n",
    "load_dotenv()\n",
    "stock_returns_path = os.getenv('STOCK_RETURNS_5YRS_FILE_PATH')\n",
    "\n",
    "df = pd.read_csv('D:\\MANU\\Datasets\\yfinance_stock_returns.csv')\n",
    "df.set_index('Date', inplace=True)\n",
    "\n",
    "df.head()"
   ]
  },
  {
   "cell_type": "code",
   "execution_count": null,
   "metadata": {},
   "outputs": [],
   "source": [
    "# Add daily log returns as features to every node (company)\n",
    "for company in comb_threshold_graph.nodes:\n",
    "    company_data = df[df['symbol'] == company]\n",
    "    log_returns_dict = dict(zip(company_data.index, company_data['Adj Close']))\n",
    "    nx.set_node_attributes(comb_threshold_graph, {company: log_returns_dict}, name='Adj Close')\n"
   ]
  },
  {
   "cell_type": "code",
   "execution_count": null,
   "metadata": {},
   "outputs": [],
   "source": [
    "import json\n",
    "\n",
    "# Convert log_returns from dictionary to string\n",
    "for company in comb_threshold_graph.nodes:\n",
    "    log_returns_dict = nx.get_node_attributes(comb_threshold_graph, 'Adj Close').get(company, {})\n",
    "    log_returns_str = json.dumps(log_returns_dict)\n",
    "    nx.set_node_attributes(comb_threshold_graph, {company: log_returns_str}, name='Adj Close')\n"
   ]
  },
  {
   "cell_type": "code",
   "execution_count": null,
   "metadata": {},
   "outputs": [],
   "source": [
    "print(\"Nodes:\")\n",
    "for node_id, attributes in comb_threshold_graph.nodes(data=True):\n",
    "    print(f\"Node {node_id}: {attributes}\")\n",
    "print(\"\\nEdges:\")\n",
    "for edge in comb_threshold_graph.edges(data=True):\n",
    "    print(f\"Edge {edge[:2]}: {edge[2]}\")"
   ]
  },
  {
   "cell_type": "code",
   "execution_count": null,
   "metadata": {},
   "outputs": [],
   "source": [
    "nx.write_graphml(comb_threshold_graph, '../Graphs/combined_threshold_graph.graphml')"
   ]
  },
  {
   "cell_type": "code",
   "execution_count": null,
   "metadata": {},
   "outputs": [],
   "source": []
  }
 ],
 "metadata": {
  "kernelspec": {
   "display_name": "Python 3",
   "language": "python",
   "name": "python3"
  },
  "language_info": {
   "codemirror_mode": {
    "name": "ipython",
    "version": 3
   },
   "file_extension": ".py",
   "mimetype": "text/x-python",
   "name": "python",
   "nbconvert_exporter": "python",
   "pygments_lexer": "ipython3",
   "version": "3.11.8"
  }
 },
 "nbformat": 4,
 "nbformat_minor": 2
}
