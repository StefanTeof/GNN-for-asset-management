{
 "cells": [
  {
   "cell_type": "code",
   "execution_count": null,
   "metadata": {},
   "outputs": [],
   "source": [
    "import json\n",
    "import networkx as nx\n",
    "import matplotlib.pyplot as plt\n",
    "import pandas as pd\n",
    "from dotenv import load_dotenv\n",
    "import os"
   ]
  },
  {
   "cell_type": "code",
   "execution_count": null,
   "metadata": {},
   "outputs": [],
   "source": [
    "load_dotenv()\n",
    "companies_file_path = os.getenv('COMPANIES_JSON_FILE_PATH')\n",
    "links_file_path = os.getenv('LINKS_JSON_FILE_PATH')"
   ]
  },
  {
   "cell_type": "code",
   "execution_count": null,
   "metadata": {},
   "outputs": [],
   "source": [
    "# Companies.json -> https://query.data.world/s/k7ib3ovtm7w5aseritn4sdv6bqrhwe?dws=00000\n",
    "companies_json = pd.read_json(companies_file_path, lines=True)"
   ]
  },
  {
   "cell_type": "code",
   "execution_count": null,
   "metadata": {},
   "outputs": [],
   "source": [
    "# Links.json -> https://query.data.world/s/x2qsj7pr75w7ouieifaf3whaiw4cbb?dws=00000\n",
    "links_json = pd.read_json(links_file_path, lines=True)"
   ]
  },
  {
   "cell_type": "code",
   "execution_count": null,
   "metadata": {},
   "outputs": [],
   "source": [
    "companies_json.head()"
   ]
  },
  {
   "cell_type": "code",
   "execution_count": null,
   "metadata": {},
   "outputs": [],
   "source": [
    "links_json.head()"
   ]
  },
  {
   "cell_type": "code",
   "execution_count": null,
   "metadata": {},
   "outputs": [],
   "source": [
    "companies_df = pd.DataFrame(companies_json)\n",
    "links_df = pd.DataFrame(links_json)"
   ]
  },
  {
   "cell_type": "code",
   "execution_count": null,
   "metadata": {},
   "outputs": [],
   "source": [
    "load_dotenv()\n",
    "sp500_csv_file_path = os.getenv('SP500_CSV_FILE_PATH')\n",
    "sp500_df = pd.read_csv(sp500_csv_file_path)"
   ]
  },
  {
   "cell_type": "code",
   "execution_count": null,
   "metadata": {},
   "outputs": [],
   "source": [
    "sp500_df.head()"
   ]
  },
  {
   "cell_type": "code",
   "execution_count": null,
   "metadata": {},
   "outputs": [],
   "source": [
    "# FILTER\n",
    "\n",
    "sp500_companies = companies_df[companies_df['name'].str.lower().isin(sp500_df['Name'].str.lower())]\n",
    "\n",
    "sp500_links = links_df[\n",
    "    links_df['home_name'].str.lower().isin(sp500_companies['name'].str.lower()) & links_df['link_name'].str.lower().isin(sp500_companies['name'].str.lower())\n",
    "]"
   ]
  },
  {
   "cell_type": "code",
   "execution_count": null,
   "metadata": {},
   "outputs": [],
   "source": [
    "len(sp500_companies)"
   ]
  },
  {
   "cell_type": "code",
   "execution_count": null,
   "metadata": {},
   "outputs": [],
   "source": [
    "sp500_companies.head()"
   ]
  },
  {
   "cell_type": "code",
   "execution_count": null,
   "metadata": {},
   "outputs": [],
   "source": [
    "len(sp500_links)"
   ]
  },
  {
   "cell_type": "code",
   "execution_count": null,
   "metadata": {},
   "outputs": [],
   "source": [
    "sp500_df['Name'] = sp500_df['Name'].str.lower()\n",
    "sp500_companies['name'] = sp500_companies['name'].str.lower()\n",
    "sp500_merged = sp500_companies.merge(sp500_df, left_on='name', right_on='Name', how='left').drop('Name', axis=1)\n"
   ]
  },
  {
   "cell_type": "code",
   "execution_count": null,
   "metadata": {},
   "outputs": [],
   "source": [
    "sp500_merged.head(50)"
   ]
  },
  {
   "cell_type": "code",
   "execution_count": null,
   "metadata": {},
   "outputs": [],
   "source": [
    "len(sp500_merged)"
   ]
  },
  {
   "cell_type": "code",
   "execution_count": null,
   "metadata": {},
   "outputs": [],
   "source": [
    "sp500_links.head()"
   ]
  },
  {
   "cell_type": "code",
   "execution_count": null,
   "metadata": {},
   "outputs": [],
   "source": [
    "# Drop Duplicates\n",
    "\n",
    "sp500_merged = sp500_merged.drop_duplicates(subset=['name'])\n",
    "sp500_links = sp500_links.drop_duplicates(subset=['home_name', 'link_name', 'type'])"
   ]
  },
  {
   "cell_type": "code",
   "execution_count": null,
   "metadata": {},
   "outputs": [],
   "source": [
    "sp500_links['home_name'] = sp500_links['home_name'].str.lower()\n",
    "sp500_links['link_name'] = sp500_links['link_name'].str.lower()"
   ]
  },
  {
   "cell_type": "code",
   "execution_count": null,
   "metadata": {},
   "outputs": [],
   "source": [
    "company_names = sp500_companies['name']\n",
    "\n",
    "filtered_links = sp500_links[\n",
    "    sp500_links['home_name'].isin(company_names) &\n",
    "    sp500_links['link_name'].isin(company_names)\n",
    "]\n",
    "\n",
    "print(len(filtered_links))"
   ]
  },
  {
   "cell_type": "code",
   "execution_count": null,
   "metadata": {},
   "outputs": [],
   "source": [
    "duplicates = filtered_links.duplicated(subset=['home_name', 'link_name'])\n",
    "print(duplicates.sum())"
   ]
  },
  {
   "cell_type": "markdown",
   "metadata": {},
   "source": [
    "There are 1660 pairs that are connected with different type of links. What would the solution be?\n",
    "1. Create list of types for each edge and add it as an attribute."
   ]
  },
  {
   "cell_type": "code",
   "execution_count": null,
   "metadata": {},
   "outputs": [],
   "source": [
    "sp500_merged"
   ]
  },
  {
   "cell_type": "code",
   "execution_count": null,
   "metadata": {},
   "outputs": [],
   "source": [
    "filtered_links.head()"
   ]
  },
  {
   "cell_type": "code",
   "execution_count": null,
   "metadata": {},
   "outputs": [],
   "source": [
    "for _, link in filtered_links.iterrows():\n",
    "    home_symbol = sp500_merged.loc[sp500_merged['name'] == link['home_name'], 'Symbol'].values[0] \n",
    "    link_symbol = sp500_merged.loc[sp500_merged['name'] == link['link_name'], 'Symbol'].values[0] \n",
    "\n",
    "    print(\"Home_SYMBOL: \", home_symbol)\n",
    "    print(\"Link_SYMBOL: \", link_symbol)"
   ]
  },
  {
   "cell_type": "code",
   "execution_count": null,
   "metadata": {},
   "outputs": [],
   "source": [
    "G = nx.Graph()\n",
    "\n",
    "for _, company in sp500_merged.iterrows():\n",
    "    node_id = company['Symbol']\n",
    "    features = {'name': company['name'], 'symbol': company['Symbol'], 'sector': company['Sector']}\n",
    "    G.add_node(node_id, **features)\n",
    "\n",
    "for _, link in filtered_links.iterrows():\n",
    "    home_symbol = sp500_merged.loc[sp500_merged['name'] == link['home_name'], 'Symbol'].values[0] \n",
    "    link_symbol = sp500_merged.loc[sp500_merged['name'] == link['link_name'], 'Symbol'].values[0] \n",
    "    home_id = home_symbol\n",
    "    link_id = link_symbol\n",
    "    relationship_type = link[\"type\"]\n",
    "\n",
    "    # Check if the edge already exists\n",
    "    if G.has_edge(home_id, link_id):\n",
    "        # If the edge exists, update the 'types' attribute with the new type\n",
    "        if 'types' in G[home_id][link_id]:\n",
    "            if relationship_type not in G[home_id][link_id]['types']:\n",
    "                G[home_id][link_id]['types'].append(relationship_type)\n",
    "        else:\n",
    "            G[home_id][link_id]['types'] = [relationship_type]\n",
    "    else:\n",
    "        # If the edge doesn't exist, add it with a 'types' attribute\n",
    "        G.add_edge(home_id, link_id, types=[relationship_type])\n",
    "\n",
    "# Convert the 'types' attribute to a string\n",
    "for edge in G.edges():\n",
    "    if 'types' in G[edge[0]][edge[1]]:\n",
    "        G[edge[0]][edge[1]]['types'] = ', '.join(G[edge[0]][edge[1]]['types'])"
   ]
  },
  {
   "cell_type": "code",
   "execution_count": null,
   "metadata": {},
   "outputs": [],
   "source": [
    "print(G.number_of_nodes())\n",
    "print(G.number_of_edges())"
   ]
  },
  {
   "cell_type": "code",
   "execution_count": null,
   "metadata": {},
   "outputs": [],
   "source": [
    "plt.figure(figsize=(15, 15))\n",
    "\n",
    "pos = nx.random_layout(G)\n",
    "nx.draw_networkx(G, pos, with_labels=True, font_size=5, node_size=20, node_color=\"skyblue\", font_color=\"black\", font_weight=\"bold\", edge_color=\"gray\", width=0.1)\n",
    "plt.title(\"Company Network\")\n",
    "plt.show()"
   ]
  },
  {
   "cell_type": "code",
   "execution_count": null,
   "metadata": {},
   "outputs": [],
   "source": [
    "# Print nodes and their attributes\n",
    "print(\"Nodes:\")\n",
    "for node_id, attributes in G.nodes(data=True):\n",
    "    print(f\"Node {node_id}: {attributes}\")\n",
    "\n",
    "# Print edges and their attributes\n",
    "print(\"\\nEdges:\")\n",
    "for edge in G.edges(data=True):\n",
    "    print(f\"Edge {edge[:2]}: {edge[2]}\")"
   ]
  },
  {
   "cell_type": "code",
   "execution_count": null,
   "metadata": {},
   "outputs": [],
   "source": [
    "import numpy as np\n",
    "\n",
    "degree_matrix = np.diag(list(dict(nx.degree(G)).values()))\n",
    "adjacency_matrix = nx.to_numpy_array(G)\n",
    "\n",
    "combined_matrix = degree_matrix + adjacency_matrix\n",
    "\n",
    "print(\"Degree Matrix:\")\n",
    "print(degree_matrix)\n",
    "\n",
    "print(\"\\nAdjacency Matrix:\")\n",
    "print(adjacency_matrix)\n",
    "\n",
    "print(\"\\nCombined Matrix:\")\n",
    "print(combined_matrix)"
   ]
  },
  {
   "cell_type": "code",
   "execution_count": null,
   "metadata": {},
   "outputs": [],
   "source": [
    "import matplotlib.pyplot as plt\n",
    "\n",
    "plt.figure(figsize=(8, 8))\n",
    "plt.imshow(degree_matrix, cmap='viridis', interpolation='none')\n",
    "plt.title('Degree Matrix')\n",
    "plt.colorbar()\n",
    "plt.show()\n",
    "\n",
    "plt.figure(figsize=(8, 8))\n",
    "plt.imshow(adjacency_matrix, cmap='viridis', interpolation='none')\n",
    "plt.title('Adjacency Matrix')\n",
    "plt.colorbar()\n",
    "plt.show()"
   ]
  },
  {
   "cell_type": "code",
   "execution_count": null,
   "metadata": {},
   "outputs": [],
   "source": [
    "nx.write_graphml_lxml(G, \"../Graphs/relato_graph.graphml\")"
   ]
  },
  {
   "cell_type": "code",
   "execution_count": null,
   "metadata": {},
   "outputs": [],
   "source": [
    "plt.figure(figsize=(15, 15))\n",
    "\n",
    "pos = nx.spring_layout(G)\n",
    "nx.draw_networkx(G, pos, with_labels=True, font_size=5, node_size=20, node_color=\"skyblue\", font_color=\"black\", font_weight=\"bold\", edge_color=\"gray\", width=0.1)\n",
    "plt.title(\"Company Network\")\n",
    "plt.show()"
   ]
  },
  {
   "cell_type": "code",
   "execution_count": null,
   "metadata": {},
   "outputs": [],
   "source": []
  }
 ],
 "metadata": {
  "kernelspec": {
   "display_name": "Python 3",
   "language": "python",
   "name": "python3"
  },
  "language_info": {
   "codemirror_mode": {
    "name": "ipython",
    "version": 3
   },
   "file_extension": ".py",
   "mimetype": "text/x-python",
   "name": "python",
   "nbconvert_exporter": "python",
   "pygments_lexer": "ipython3",
   "version": "3.10.9"
  }
 },
 "nbformat": 4,
 "nbformat_minor": 2
}
